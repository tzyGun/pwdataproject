{
 "cells": [
  {
   "cell_type": "code",
   "execution_count": 1,
   "metadata": {},
   "outputs": [],
   "source": [
    "import os\n",
    "from pyspark.sql import SparkSession\n",
    "from pyspark.sql.types import *\n",
    "from pyspark.sql.functions import from_json, window"
   ]
  },
  {
   "cell_type": "code",
   "execution_count": 2,
   "metadata": {},
   "outputs": [],
   "source": [
    "os.environ['PYSPARK_SUBMIT_ARGS'] = '--packages org.apache.spark:spark-sql-kafka-0-10_2.12:3.1.1,com.datastax.spark:spark-cassandra-connector_2.12:3.0.0-beta,com.datastax.cassandra:cassandra-driver-core:3.9.0 pyspark-shell'"
   ]
  },
  {
   "cell_type": "code",
   "execution_count": 3,
   "metadata": {},
   "outputs": [],
   "source": [
    "bootstrap_servers = 'broker:9094'\n",
    "topic = 'bitcoin'"
   ]
  },
  {
   "cell_type": "code",
   "execution_count": 4,
   "metadata": {},
   "outputs": [],
   "source": [
    "cassandra_connection = 'cassandra:7000'"
   ]
  },
  {
   "cell_type": "code",
   "execution_count": 5,
   "metadata": {},
   "outputs": [],
   "source": [
    "spark = SparkSession \\\n",
    "    .builder \\\n",
    "    .appName('StructuredStreamingKafka') \\\n",
    "    .getOrCreate()"
   ]
  },
  {
   "cell_type": "code",
   "execution_count": 6,
   "metadata": {},
   "outputs": [],
   "source": [
    "kafka_raw_stream = spark \\\n",
    "    .readStream \\\n",
    "    .format('kafka') \\\n",
    "    .option('kafka.bootstrap.servers',bootstrap_servers) \\\n",
    "    .option(\"spark.cassandra.connection.host\", cassandra_connection) \\\n",
    "    .option('subscribe',topic) \\\n",
    "    .load()"
   ]
  },
  {
   "cell_type": "code",
   "execution_count": 7,
   "metadata": {},
   "outputs": [],
   "source": [
    "kafka_stream = kafka_raw_stream \\\n",
    "    .selectExpr('CAST(key as String)','CAST(value as String)')"
   ]
  },
  {
   "cell_type": "code",
   "execution_count": 8,
   "metadata": {},
   "outputs": [],
   "source": [
    "coin_schema = StructType(\n",
    "    [\n",
    "        StructField('24hVolume',   StringType(),True),\n",
    "        StructField('btcPrice',   StringType(),True),\n",
    "        StructField('change', StringType(),True),\n",
    "        StructField('coinrankingUrl',    StringType(),True),\n",
    "        StructField('color',    StringType(),True),\n",
    "        StructField('iconUrl',StringType(),True),\n",
    "        StructField('listedAt',   LongType(),  True),\n",
    "        StructField('lowVolume',   BooleanType(),  True),\n",
    "        StructField('marketCap',   DoubleType(),  True),\n",
    "        StructField('name',   StringType(),  True),\n",
    "        StructField('price',   StringType(),  True),\n",
    "        StructField('rank',   LongType(),  True),\n",
    "        StructField(\"sparkline\", ArrayType(\n",
    "        StructType([\n",
    "          StructField(\"value\", DoubleType()),\n",
    "        ]))),\n",
    "        StructField('symbol', StringType(),  True),\n",
    "        StructField('tier', LongType(),  True),\n",
    "        StructField('uuid', StringType(),  True)\n",
    "   \n",
    "    ]\n",
    ")\n",
    "\n",
    "\n",
    "#  \"24hVolume\": \"45865856021.84056227483486300146\", \n",
    "#         \"btcPrice\": \"1\", \n",
    "#         \"change\": \"-2.951245541595327\", \n",
    "#         \"coinrankingUrl\": \"https://coinranking.com/coin/Qwsogvtv82FCd+bitcoin-btc\", \n",
    "#         \"color\": \"#f7931A\", \n",
    "#         \"iconUrl\": \"https://cdn.coinranking.com/bOabBYkcX/bitcoin_btc.svg\", \n",
    "#         \"listedAt\": 1330214400, \n",
    "#         \"lowVolume\": false, \n",
    "#         \"marketCap\": \"872063459795.82604756063261182578\", \n",
    "#         \"name\": \"Bitcoin\", \n",
    "#         \"price\": \"46605.15802439004179893254\", \n",
    "#         \"rank\": 1, \n",
    "#         \"sparkline\": [\n",
    "#           \"48121.48483135035029351326\", \n",
    "#           \"47680.53858679600719235244\", \n",
    "#           \"48363.56523278616068368839\", \n",
    "#           \"48547.2249512731716192729\", \n",
    "#           \"48600.68095521068515406288\", \n",
    "#           \"47867.01860299033202525132\", \n",
    "#           \"47313.78751502263220988798\", \n",
    "#           \"47705.20653715832878873714\", \n",
    "#           \"48135.84226539024826131598\", \n",
    "#           \"48248.90108849445470098487\", \n",
    "#           \"48292.63898319552541734948\", \n",
    "#           \"48327.98116447038348587492\", \n",
    "#           \"48469.01320208769617189259\", \n",
    "#           \"49183.96868989059700892347\", \n",
    "#           \"49109.4865405254377944505\", \n",
    "#           \"49059.22910241027652704515\", \n",
    "#           \"49430.5228999390130752474\", \n",
    "#           \"49659.9610417944210137561\", \n",
    "#           \"49467.61462382282509885858\", \n",
    "#           \"49102.70547826240853393093\", \n",
    "#           \"48924.5702112945445245131\", \n",
    "#           \"48763.21645728770164001951\", \n",
    "#           \"48159.55221947218685386965\", \n",
    "#           \"47662.404264526723439679\", \n",
    "#           \"47014.14955772720869414904\", \n",
    "#           \"46783.42960858551741566763\", \n",
    "#           \"46605.15802439004179893254\"\n",
    "#         ], \n",
    "#         \"symbol\": \"BTC\", \n",
    "#         \"tier\": 1, \n",
    "#         \"uuid\": \"Qwsogvtv82FCd\""
   ]
  },
  {
   "cell_type": "code",
   "execution_count": 9,
   "metadata": {},
   "outputs": [],
   "source": [
    "coins = kafka_stream \\\n",
    "    .withColumn('coin', from_json('value',coin_schema)) \\\n",
    "    .selectExpr('key','coin.*')"
   ]
  },
  {
   "cell_type": "code",
   "execution_count": 10,
   "metadata": {},
   "outputs": [],
   "source": [
    "# vehicles_with_ts = vehicles \\\n",
    "#     .selectExpr('key','type','line','brigade','lat','lon','bearing','CAST(time/1000 as Timestamp) as time')"
   ]
  },
  {
   "cell_type": "code",
   "execution_count": 11,
   "metadata": {},
   "outputs": [],
   "source": [
    "# event_count_5min = vehicles_with_ts \\\n",
    "#     .withWatermark('time','10 seconds') \\\n",
    "#     .groupBy(\n",
    "#         window('time','1 second')\n",
    "#     ).count()"
   ]
  },
  {
   "cell_type": "code",
   "execution_count": 12,
   "metadata": {},
   "outputs": [],
   "source": [
    "query = coins  \\\n",
    "    .writeStream \\\n",
    "    .format('console') \\\n",
    "    .option('truncate','true') \\\n",
    "    .start()"
   ]
  },
  {
   "cell_type": "code",
   "execution_count": null,
   "metadata": {},
   "outputs": [],
   "source": [
    "query.awaitTermination()"
   ]
  },
  {
   "cell_type": "code",
   "execution_count": null,
   "metadata": {},
   "outputs": [],
   "source": []
  }
 ],
 "metadata": {
  "kernelspec": {
   "display_name": "Python 3",
   "language": "python",
   "name": "python3"
  },
  "language_info": {
   "codemirror_mode": {
    "name": "ipython",
    "version": 3
   },
   "file_extension": ".py",
   "mimetype": "text/x-python",
   "name": "python",
   "nbconvert_exporter": "python",
   "pygments_lexer": "ipython3",
   "version": "3.9.4"
  }
 },
 "nbformat": 4,
 "nbformat_minor": 4
}
