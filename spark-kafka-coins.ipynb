{
 "cells": [
  {
   "cell_type": "code",
   "execution_count": 1,
   "metadata": {},
   "outputs": [],
   "source": [
    "import os\n",
    "from pyspark.sql import SparkSession\n",
    "from pyspark.sql.types import *\n",
    "from pyspark.sql.functions import from_json, window, to_json"
   ]
  },
  {
   "cell_type": "code",
   "execution_count": 2,
   "metadata": {},
   "outputs": [],
   "source": [
    "os.environ['PYSPARK_SUBMIT_ARGS'] = '--packages org.apache.spark:spark-sql-kafka-0-10_2.12:3.1.1,com.datastax.spark:spark-cassandra-connector_2.12:3.0.0-beta,com.datastax.cassandra:cassandra-driver-core:3.9.0 pyspark-shell'"
   ]
  },
  {
   "cell_type": "code",
   "execution_count": 3,
   "metadata": {},
   "outputs": [],
   "source": [
    "bootstrap_servers = 'broker:9094'\n",
    "topic = 'coins'"
   ]
  },
  {
   "cell_type": "code",
   "execution_count": 4,
   "metadata": {},
   "outputs": [],
   "source": [
    "cassandra_connection = 'cassandra:9042'"
   ]
  },
  {
   "cell_type": "code",
   "execution_count": 5,
   "metadata": {},
   "outputs": [],
   "source": [
    "spark = SparkSession \\\n",
    "    .builder \\\n",
    "    .appName('StructuredStreamingKafka') \\\n",
    "    .config(\"spark.cassandra.connection.host\", 'cassandra') \\\n",
    "    .config(\"spark.cassandra.connection.port\", '9042') \\\n",
    "    .getOrCreate()\n"
   ]
  },
  {
   "cell_type": "code",
   "execution_count": 6,
   "metadata": {
    "scrolled": true
   },
   "outputs": [],
   "source": [
    "def readFromCassandra(dataFrame, table, keyspace):\n",
    "    spark.read \\\n",
    "        .format(\"org.apache.spark.sql.cassandra\") \\\n",
    "        .options(table=\"coins_data\", keyspace=\"coins\") \\\n",
    "        .load().show()\n",
    "\n",
    "def writeToCassandraHistoricalData(dataFrame, batch_id):  \n",
    "    dataFrame.write\\\n",
    "    .format(\"org.apache.spark.sql.cassandra\")\\\n",
    "    .mode('append')\\\n",
    "    .options(table='coins_historical', keyspace='coins')\\\n",
    "    .save()\n",
    "    \n",
    "def writeToCassandraAssetsData(dataFrame, batch_id):  \n",
    "    dataFrame.write\\\n",
    "    .format(\"org.apache.spark.sql.cassandra\")\\\n",
    "    .mode('append')\\\n",
    "    .options(table='coins_assets', keyspace='coins')\\\n",
    "    .save()"
   ]
  },
  {
   "cell_type": "code",
   "execution_count": 7,
   "metadata": {},
   "outputs": [],
   "source": [
    "kafkaRawDf = spark \\\n",
    "    .readStream \\\n",
    "    .format('kafka') \\\n",
    "    .option('kafka.bootstrap.servers',bootstrap_servers) \\\n",
    "    .option('subscribe',topic) \\\n",
    "    .option(\"failOnDataLoss\", \"false\") \\\n",
    "    .load()"
   ]
  },
  {
   "cell_type": "code",
   "execution_count": 8,
   "metadata": {},
   "outputs": [],
   "source": [
    "kafkaKeyValueDf = kafkaRawDf \\\n",
    "    .selectExpr('CAST(key as String)','CAST(value as String)')"
   ]
  },
  {
   "cell_type": "code",
   "execution_count": 9,
   "metadata": {},
   "outputs": [],
   "source": [
    "coin_schema = StructType(\n",
    "    [\n",
    "        StructField('24hVolume',   StringType(),True),\n",
    "        StructField('btcPrice',   StringType(),True),\n",
    "        StructField('change', StringType(),True),\n",
    "        StructField('coinrankingUrl',    StringType(),True),\n",
    "        StructField('color',    StringType(),True),\n",
    "        StructField('iconUrl',StringType(),True),\n",
    "        StructField('listedAt',   LongType(),  True),\n",
    "        StructField('lowVolume',   BooleanType(),  True),\n",
    "        StructField('marketCap',   DoubleType(),  True),\n",
    "        StructField('name',   StringType(),  True),\n",
    "        StructField('price',   StringType(),  True),\n",
    "        StructField('rank',   LongType(),  True),\n",
    "        StructField(\"sparkline\", ArrayType(StringType())),\n",
    "        StructField('symbol', StringType(),  True),\n",
    "        StructField('tier', LongType(),  True),\n",
    "        StructField('uuid', StringType(),  True)\n",
    "   \n",
    "    ]\n",
    ")"
   ]
  },
  {
   "cell_type": "code",
   "execution_count": 10,
   "metadata": {},
   "outputs": [],
   "source": [
    "coinsAssetsToCassandara = kafkaKeyValueDf \\\n",
    "    .withColumn('coin', from_json('value', coin_schema)) \\\n",
    "    .selectExpr('coin.uuid', 'coin.name', 'coin.symbol', 'coin.coinrankingUrl' , 'coin.color', 'coin.iconUrl') \\\n",
    "    .withColumnRenamed('coinrankingUrl', 'coinrankingurl') \\\n",
    "    .withColumnRenamed('iconUrl', 'iconurl')\n",
    "\n",
    "coinsHistoricalToCassandara = kafkaKeyValueDf \\\n",
    "    .withColumn('coin', from_json('value', coin_schema)) \\\n",
    "    .selectExpr('coin.uuid', 'coin.name', 'coin.price', 'coin.btcPrice', 'coin.24hVolume', 'coin.marketCap', 'coin.tier' ) \\\n",
    "    .withColumnRenamed('btcPrice', 'btcprice') \\\n",
    "    .withColumnRenamed('24hVolume', 'dailyvolume') \\\n",
    "    .withColumnRenamed('marketCap', 'marketcap') \\\n",
    "\n",
    "coinsDf = kafkaKeyValueDf \\\n",
    "    .withColumn('coin', from_json('value', coin_schema)) \\\n",
    "    .selectExpr('coin.*') "
   ]
  },
  {
   "cell_type": "code",
   "execution_count": 11,
   "metadata": {},
   "outputs": [],
   "source": [
    "cassandraAssetsDataQuery = coinsAssetsToCassandara  \\\n",
    "    .writeStream \\\n",
    "    .foreachBatch(writeToCassandraAssetsData) \\\n",
    "    .outputMode(\"update\") \\\n",
    "    .start()\n",
    "\n",
    "cassandraHistoricalDataQuery = coinsHistoricalToCassandara  \\\n",
    "    .writeStream \\\n",
    "    .foreachBatch(writeToCassandraHistoricalData) \\\n",
    "    .outputMode(\"update\") \\\n",
    "    .start()\n",
    "\n",
    "consoleQueryDebugging = coinsDf \\\n",
    "    .writeStream \\\n",
    "    .format(\"console\") \\\n",
    "    .start()\n",
    "\n",
    "\n",
    "kafkaRealTimeQuery = coinsDf \\\n",
    "    .selectExpr(\"to_json(struct(24hVolume, change, marketCap, price, rank, name, symbol, sparkline)) AS value\") \\\n",
    "    .writeStream \\\n",
    "    .format(\"kafka\") \\\n",
    "    .outputMode(\"append\") \\\n",
    "    .option(\"kafka.bootstrap.servers\", bootstrap_servers) \\\n",
    "    .option(\"topic\", \"coins-api\") \\\n",
    "    .option(\"checkpointLocation\", \"/tmp/context-kafka/checkpoint\") \\\n",
    "    .start()\n"
   ]
  },
  {
   "cell_type": "code",
   "execution_count": null,
   "metadata": {},
   "outputs": [],
   "source": [
    "cassandraAssetsDataQuery.awaitTermination()\n",
    "cassandraHistoricalDataQuery.awaitTermination()\n",
    "consoleQueryDebugging.awaitTermination()\n",
    "kafkaRealTimeQuery.awaitTermination()"
   ]
  },
  {
   "cell_type": "code",
   "execution_count": null,
   "metadata": {},
   "outputs": [],
   "source": []
  }
 ],
 "metadata": {
  "kernelspec": {
   "display_name": "Python 3",
   "language": "python",
   "name": "python3"
  },
  "language_info": {
   "codemirror_mode": {
    "name": "ipython",
    "version": 3
   },
   "file_extension": ".py",
   "mimetype": "text/x-python",
   "name": "python",
   "nbconvert_exporter": "python",
   "pygments_lexer": "ipython3",
   "version": "3.9.4"
  }
 },
 "nbformat": 4,
 "nbformat_minor": 4
}
